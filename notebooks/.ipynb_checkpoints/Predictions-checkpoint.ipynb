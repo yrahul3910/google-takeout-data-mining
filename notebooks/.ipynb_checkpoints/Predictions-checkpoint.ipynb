{
 "cells": [
  {
   "cell_type": "code",
   "execution_count": 1,
   "metadata": {},
   "outputs": [],
   "source": [
    "import pickle\n",
    "import numpy as np\n",
    "import pandas as pd\n",
    "import os\n",
    "from ivis import Ivis\n",
    "from scipy.spatial import distance_matrix\n",
    "import sys\n",
    "\n",
    "sys.path.append('../')"
   ]
  },
  {
   "cell_type": "code",
   "execution_count": 2,
   "metadata": {},
   "outputs": [],
   "source": [
    "from userdata_mining.embedding import Embedding"
   ]
  },
  {
   "cell_type": "code",
   "execution_count": 91,
   "metadata": {},
   "outputs": [],
   "source": [
    "def popt20(y_true, y_pred):\n",
    "    \"\"\"\n",
    "    Returns the popt20 metric. Lower is better.\n",
    "    \n",
    "    :param y_true: The true labels.\n",
    "    :param y_pred: The prediction probabilities.\n",
    "    \"\"\"\n",
    "    total = len(y_true)\n",
    "    count = 0\n",
    "    used = 0\n",
    "    \n",
    "    for idx, pred in enumerate(y_pred):\n",
    "        used += 1\n",
    "        if y_true[idx]:\n",
    "            count += 1\n",
    "        \n",
    "        if count >= 0.2 * total:\n",
    "            break\n",
    "    \n",
    "    return used / total"
   ]
  },
  {
   "cell_type": "code",
   "execution_count": 83,
   "metadata": {},
   "outputs": [],
   "source": [
    "def accuracy(y_true, y_pred):\n",
    "    \"\"\"\n",
    "    Returns the accuracy of the model. Higher is better.\n",
    "    \"\"\"\n",
    "    total = len(y_true)\n",
    "    correct = 0\n",
    "    \n",
    "    for i, true in enumerate(y_true):\n",
    "        if true == 0 and i not in y_pred:\n",
    "            correct += 1\n",
    "        elif true == 1 and i in y_pred:\n",
    "            correct += 1\n",
    "    \n",
    "    return correct / total"
   ]
  },
  {
   "cell_type": "code",
   "execution_count": 84,
   "metadata": {},
   "outputs": [],
   "source": [
    "def precision(y_true, y_pred):\n",
    "    \"\"\"\n",
    "    Returns the precision, tp / (tp + fp) of the model. Higher is better.\n",
    "    \"\"\"\n",
    "    tp = 0\n",
    "    fp = 0\n",
    "    \n",
    "    for i, true in enumerate(y_true):\n",
    "        if true == 1 and i in y_pred:\n",
    "            tp += 1\n",
    "        elif true == 0 and i in y_pred:\n",
    "            fp += 1\n",
    "    \n",
    "    return tp / (tp + fp)"
   ]
  },
  {
   "cell_type": "code",
   "execution_count": 89,
   "metadata": {},
   "outputs": [],
   "source": [
    "def recall(y_true, y_pred):\n",
    "    \"\"\"\n",
    "    Returns the recall, tp / (tp + fn) of the model. Higher is better.\n",
    "    \"\"\"\n",
    "    tp = 0\n",
    "    fn = 0\n",
    "    \n",
    "    for i, true in enumerate(y_true):\n",
    "        if true == 1 and i in y_pred:\n",
    "            tp += 1\n",
    "        elif true == 1 and i not in y_pred:\n",
    "            fn += 1\n",
    "    \n",
    "    return tp / (tp + fn)"
   ]
  },
  {
   "cell_type": "code",
   "execution_count": 86,
   "metadata": {},
   "outputs": [],
   "source": [
    "def f1_score(y_true, y_pred):\n",
    "    \"\"\"\n",
    "    Returns the f1-score. Higher is better.\n",
    "    \"\"\"\n",
    "    rec = recall(y_true, y_pred)\n",
    "    prec = precision(y_true, y_pred)\n",
    "    \n",
    "    return 2 * rec * prec / (rec + prec)"
   ]
  },
  {
   "cell_type": "code",
   "execution_count": 87,
   "metadata": {},
   "outputs": [],
   "source": [
    "def get_metrics(y_true, y_pred):\n",
    "    \"\"\"\n",
    "    Prints out all the metrics.\n",
    "    \"\"\"\n",
    "    rec = recall(y_true, y_pred)\n",
    "    prec = precision(y_true, y_pred)\n",
    "    f1 = f1_score(y_true, y_pred)\n",
    "    acc = accuracy(y_true, y_pred)\n",
    "    popt = popt20(y_true, y_pred)\n",
    "    \n",
    "    print(f'Accuracy: {acc}')\n",
    "    print(f'Recall: {rec}')\n",
    "    print(f'Precision: {prec}')\n",
    "    print(f'F1-score: {f1}')\n",
    "    print(f'popt20: {popt}')"
   ]
  },
  {
   "cell_type": "code",
   "execution_count": 45,
   "metadata": {},
   "outputs": [],
   "source": [
    "def _reduce_dims(arg, dims):\n",
    "    \"\"\"\n",
    "    Uses ivis to reduce dimensionality to dims.\n",
    "\n",
    "    :param {Iterable} arg - an array-like object\n",
    "    :param {int} dims - the dims to reduce to\n",
    "    :return {np.ndarray} embedded object\n",
    "    \"\"\"\n",
    "    m = arg.shape[0]\n",
    "    if m > 200:\n",
    "        k = int(0.01 * m)\n",
    "    elif m > 50:\n",
    "        k = int(0.1 * m)\n",
    "    elif m > 10:\n",
    "        k = int(0.2 * m)\n",
    "    else:\n",
    "        k = max(int(0.4 * m), m-3)\n",
    "\n",
    "    ivis = Ivis(embedding_dims=dims, k=k, batch_size=2)\n",
    "    return ivis.fit_transform(arg)"
   ]
  },
  {
   "cell_type": "code",
   "execution_count": 47,
   "metadata": {},
   "outputs": [],
   "source": [
    "def get_predictions(model: dict, product_embeddings: list, google_only: bool = True, dims: int=768):\n",
    "    preds = []\n",
    "    for key, data in model.items():\n",
    "        if (key.startswith('Insta') or key.startswith('FB')) and google_only:\n",
    "            continue\n",
    "        \n",
    "        data = np.array(data)\n",
    "        if len(data.shape) < 2 or data.shape[1] == 0:\n",
    "            continue\n",
    "        \n",
    "        if dims < 768:\n",
    "            data = _reduce_dims(data, dims)\n",
    "        if dims < product_embeddings.shape[1]:\n",
    "            product_embeddings = _reduce_dims(product_embeddings, dims)\n",
    "        \n",
    "        distances = distance_matrix(data, product_embeddings, p=1)\n",
    "        preds.extend(\n",
    "            np.unravel_index(\n",
    "                np.argsort(distances, axis=None)[:20],\n",
    "                distances.shape)[1]\n",
    "        )\n",
    "    \n",
    "    return list(set(preds))"
   ]
  },
  {
   "cell_type": "code",
   "execution_count": 51,
   "metadata": {},
   "outputs": [],
   "source": [
    "products = []\n",
    "for file in os.listdir('../products/'):\n",
    "    with open(f'../products/{file}', 'r') as f:\n",
    "        lines = f.readlines()[1:]\n",
    "    lines = [x.replace(',', ' ') for x in lines]\n",
    "    \n",
    "    products.extend(lines)"
   ]
  },
  {
   "cell_type": "code",
   "execution_count": 76,
   "metadata": {},
   "outputs": [
    {
     "name": "stdout",
     "output_type": "stream",
     "text": [
      "0 All American Christmas \"From the wind-swept  snowy ranges of Wyoming to Florida beaches glowing with Christmas lights  All American Christmas traces holiday traditions across the United States. In this beautiful personal keepsake  Rachel Campos-Duffy and Sean Duffy present a dazzling collection of emotional stories  treasured family photographs  and homegrown Christmas recipes from some of Fox News’ most beloved personalities. Dana Perino takes readers out west to the cattle ranch where she celebrated Christmas with real life “Marlboro Men”—her uncles and grandfather. Maria Bartiromo reflects on growing up in Brooklyn and the famously brilliant light displays in her neighborhood. Brit Hume looks back at the day he and a friend rushed onto the Washington Senators’ field—and how his parents later warned him that he was now on Santa Claus’ naughty list. For Lauren Green  her understanding of Christmas has evolved with her growing faith. Beautifully designed to reflect the color and spirit and sparkle of the season and featuring 16 pages of color photographs  All American Christmas is a gift of love from the Fox News family and is sure to be cherished for seasons to come.\"\n",
      "\n",
      "\n",
      "1 The 1619 Project: A New Origin Story \"A dramatic expansion of a groundbreaking work of journalism  The 1619 Project: A New Origin Story offers a profoundly revealing vision of the American past and present. In late August 1619  a ship arrived in the British colony of Virginia bearing a cargo of twenty to thirty enslaved people from Africa. Their arrival led to the barbaric and unprecedented system of American chattel slavery that would last for the next 250 years. This is sometimes referred to as the country’s original sin  but it is more than that: It is the source of so much that still defines the United States. The New York Times Magazine’s award-winning “1619 Project” issue reframed our understanding of American history by placing slavery and its continuing legacy at the center of our national narrative. This new book substantially expands on that work  weaving together eighteen essays that explore the legacy of slavery in present-day America with thirty-six poems and works of fiction that illuminate key moments of oppression  struggle  and resistance. The essays show how the inheritance of 1619 reaches into every part of contemporary American society  from politics  music  diet  traffic  and citizenship to capitalism  religion  and our democracy itself. This is a book that speaks directly to our current moment  contextualizing the systems of race and caste within which we operate today. It reveals long-glossed-over truths around our nation’s founding and construction—and the way that the legacy of slavery did not end with emancipation  but continues to shape contemporary American life.\"\n",
      "\n",
      "\n",
      "2 \"The Real Anthony Fauci: Bill Gates  Big Pharma  and the Global War on Democracy and Public Health (Children’s Health Defense)\" \"Pharma-funded mainstream media has convinced millions of Americans that Dr. Anthony Fauci is a hero. He is anything but. As director of the National Institute of Allergy and Infectious Diseases (NIAID)  Dr. Anthony Fauci dispenses $6.1 billion in annual taxpayer-provided funding for scientific research  allowing him to dictate the subject  content  and outcome of scientific health research across the globe. Fauci uses the financial clout at his disposal to wield extraordinary influence over hospitals  universities  journals  and thousands of influential doctors and scientists—whose careers and institutions he has the power to ruin  advance  or reward. During more than a year of painstaking and meticulous research  Robert F. Kennedy Jr. unearthed a shocking story that obliterates media spin on Dr. Fauci . . . and that will alarm every American—Democrat or Republican—who cares about democracy  our Constitution  and the future of our children’s health. The Real Anthony Fauci reveals how “America’s Doctor” launched his career during the early AIDS crisis by partnering with pharmaceutical companies to sabotage safe and effective off-patent therapeutic treatments for AIDS. Fauci orchestrated fraudulent studies  and then pressured US Food and Drug Administration (FDA) regulators into approving a deadly chemotherapy treatment he had good reason to know was worthless against AIDS. Fauci repeatedly violated federal laws to allow his Pharma partners to use impoverished and dark-skinned children as lab rats in deadly experiments with toxic AIDS and cancer chemotherapies. In early 2000  Fauci shook hands with Bill Gates in the library of Gates’ $147 million Seattle mansion  cementing a partnership that would aim to control an increasingly profitable $60 billion global vaccine enterprise with unlimited growth potential. Through funding leverage and carefully cultivated personal relationships with heads of state and leading media and social media institutions  the Pharma-Fauci-Gates alliance exercises dominion over global health policy. The Real Anthony Fauci details how Fauci  Gates  and their cohorts use their control of media outlets  scientific journals  key government and quasi-governmental agencies  global intelligence agencies  and influential scientists and physicians to flood the public with fearful propaganda about COVID-19 virulence and pathogenesis  and to muzzle debate and ruthlessly censor dissent.\"\n",
      "\n",
      "\n",
      "3 Betrayal: The Final Act of the Trump Show \"Picking up where the New York Times bestselling Front Row at the Trump Show left off  this is the explosive look at the aftermath of the election—and the events that followed Donald Trump’s leaving the White House—from ABC News' chief Washington correspondent. Nobody is in a better position to tell the story of the shocking final chapter of the Trump show than Jonathan Karl.  As the reporter who has known Donald Trump longer than any other White House correspondent  Karl told the story of Trump’s rise in the New York Times bestseller Front Row at the Trump Show. Now he tells the story of Trump’s downfall  complete with riveting behind-the-scenes accounts of some of the darkest days in the history of the American presidency and packed with original reporting and on-the-record interviews with central figures in this drama who are telling their stories for the first time. This is a definitive account of what was really going on during the final weeks and months of the Trump presidency and what it means for the future of the Republican Party  by a reporter who was there for it all. He has been taunted  praised  and vilified by Donald Trump  and now Jonathan Karl finds himself in a singular position to deliver the truth.\"\n",
      "\n",
      "\n",
      "4 Welcome to Dunder Mifflin: The Ultimate Oral History of The Office \"“The definitive history of The Office. Spills all of the tea on NBC's iconic sitcom.” —E! News Join the entire Dunder Mifflin gang on a journey back to Scranton: here's the hilarious and improbable inside story behind the beloved series. Based on hundreds of hours of exclusive interviews with the cast and creators and illustrated with 100 behind-the-scenes photographs  here  at last  is the untold inside story of The Office  featuring a foreword by Greg Daniels  who adapted the series for the U.S. and was its guiding creative force  and narrated by star Brian Baumgartner (aka “Kevin Malone”) and executive producer Ben Silverman.. In Welcome to Dunder Mifflin  the entire Office gang reunite after nearly a decade to share their favorite inside stories  spill untold secrets  and reveal how a little show that barely survived its first season became the most watched series in the universe. This ultimate fan companion pulls back the curtain as never before on all the absurdity  genius  love  passion  and dumb luck that went into creating America's beloved The Office. Featuring the memories of Steve Carell  John Krasinkski  Jenna Fischer  Greg Daniels  Ricky Gervais  Rainn Wilson  Angela Kinsey  Craig Robinson  Brian Baumgartner  Phyllis Smith  Kate Flannery  Ed Helms  Oscar Nunez  Amy Ryan  Ellie Kemper  Creed Bratton  Paul Lieberstein  Ben Silverman  Mike Schur  and many more.\"\n",
      "\n",
      "\n",
      "5 Big Shot Diary of a Wimpy Kid Book 16 \"In Big Shot  book 16 of the Diary of a Wimpy Kid series from #1 international bestselling author Jeff Kinney  Greg Heffley and sports just don’t mix. After a disastrous field day competition at school  Greg decides that when it comes to his athletic career  he’s officially retired. But after his mom urges him to give sports one more chance  he reluctantly agrees to sign up for basketball. Tryouts are a mess  and Greg is sure he won’t make the cut. But he unexpectedly lands a spot on the worst team. As Greg and his new teammates start the season  their chances of winning even a single game look slim. But in sports  anything can happen. When everything is on the line and the ball is in Greg’s hands  will he rise to the occasion? Or will he blow his big shot? See the Wimpy Kid World in a whole new way with the help of Greg Heffley’s best friend in the instant #1 bestsellers Diary of an Awesome Friendly Kid: Rowley Jefferson’s Journal  Rowley Jefferson’s Awesome Friendly Adventure  and Rowley Jefferson’s Awesome Friendly Spooky Stories!\"\n",
      "\n",
      "\n",
      "6 Will \"The instant #1 New York Times bestseller! “It's the best memoir I've ever read.” —Oprah Winfrey “Will Smith isn't holding back in his bravely inspiring new memoir . . . An ultimately heartwarming read  Will provides a humane glimpse of the man behind the actor  producer and musician  as he bares all his insecurities and trauma.” —USA Today One of the most dynamic and globally recognized entertainment forces of our time opens up fully about his life  in a brave and inspiring book that traces his learning curve to a place where outer success  inner happiness  and human connection are aligned. Along the way  Will tells the story in full of one of the most amazing rides through the worlds of music and film that anyone has ever had. Will Smith’s transformation from a West Philadelphia kid to one of the biggest rap stars of his era  and then one of the biggest movie stars in Hollywood history  is an epic tale—but it’s only half the story. Will Smith thought  with good reason  that he had won at life: not only was his own success unparalleled  his whole family was at the pinnacle of the entertainment world. Only they didn't see it that way: they felt more like star performers in his circus  a seven-days-a-week job they hadn't signed up for. It turned out Will Smith's education wasn't nearly over. This memoir is the product of a profound journey of self-knowledge  a reckoning with all that your will can get you and all that it can leave behind. Written with the help of Mark Manson  author of the multi-million-copy bestseller The Subtle Art of Not Giving a F*ck  Will is the story of how one person mastered his own emotions  written in a way that can help everyone else do the same. Few of us will know the pressure of performing on the world's biggest stages for the highest of stakes  but we can all understand that the fuel that works for one stage of our journey might have to be changed if we want to make it all the way home. The combination of genuine wisdom of universal value and a life story that is preposterously entertaining  even astonishing  puts Will the book  like its author  in a category by itself.\"\n",
      "\n",
      "\n",
      "7 Make Your Bed with Skipper the Seal \"A seal becomes a Navy SEAL in this children's adaptation of the #1 New York Times bestselling Make Your Bed: Little Things That Can Change Your Life...And Maybe the World by Admiral William H. McRaven. As Skipper the seal embarks on Navy SEAL training  he and his hardworking friends learn much more than how to pass a swimming test or how to dive off a ship. To be a great SEAL  you also have to take risks  deal with failure  and persevere through tough times—just as you do in life. (And always remember to make your bed!) In this entertaining children's adaptation of his #1 New York Times bestseller  Admiral William H. McRaven shares life lessons from Navy SEAL training and encourages young readers to become their best selves.\"\n",
      "\n",
      "\n",
      "8 Humans \"The Instant #1 New York Times Bestseller Just when we need it  Humans reminds us what it means to be human . . . one of the most influential art projects of the decade.” -Washington Post Brandon Stanton’s new book  Humans-his most moving and compelling book to date-shows us the world. Brandon Stanton created Humans of New York in 2010. What began as a photographic census of life in New York City  soon evolved into a storytelling phenomenon. A global audience of millions began following HONY daily. Over the next several years  Stanton broadened his lens to include people from across the world. Traveling to more than forty countries  he conducted interviews across continents  borders  and language barriers. Humans is the definitive catalogue of these travels. The faces and locations will vary from page to page  but the stories will feel deeply familiar. Told with candor and intimacy  Humans will resonate with readers across the globe-providing a portrait of our shared experience.\"\n",
      "\n",
      "\n",
      "9 Get Untamed: The Journal (How to Quit Pleasing and Start Living) \"This stunning hardcover journal is a bold  interactive guide to discovering and creating the truest  most beautiful lives  families  and world we can imagine  based on the #1 New York Times bestseller Untamed. “We must stop asking people for directions to places they’ve never been. Every life is an unprecedented experiment. We are all pioneers. I created Get Untamed: The Journal as an interactive experience in charting our own way—so we can let burn that which is not true and beautiful enough and get started building what is.” —Glennon Doyle With Untamed  Glennon Doyle—writer  activist  and “patron saint of female empowerment” (People)—ignited a movement. Untamed has been described as “a wake-up call” (Tracee Ellis Ross)  “an anthem for women today” (Kristen Bell)  and a book that “will shake your brain and make your soul scream” (Adele). Glennon now offers a new way of journaling  one that reveals how we can stop striving to meet others’ expectations—because when we finally learn that satisfying the world is impossible  we quit pleasing and start living. Whether or not you have read Untamed  this journal leads you to rediscover  and begin to trust  your own inner-voice. Full of thought-provoking exercises  beloved quotations from Untamed  compelling illustrations  playful and meditative coloring pages  and an original introduction  in Get Untamed: The Journal  Glennon guides us through the process of examining the aspects of our lives that can make us feel caged. This revolutionary method for uprooting culturally-constructed ideas shows us how to discover for ourselves what we want to keep and what we’ll let burn so that we can build lives by design instead of default. A one-of-a-kind journal experience  Get Untamed proves Glennon’s philosophy that “imagination is not where we go to escape reality  but where we go to remember it.”\"\n",
      "\n",
      "\n",
      "10 Bedsure Satin Pillowcase for Hair and Skin \"2-Pack - Standard Size (20x26 inches) Pillow Cases - Satin Pillow Covers with Envelope Closure  Dark Grey\"\n",
      "\n",
      "\n",
      "11 Mellanni Bed Sheet Set \"Brushed Microfiber 1800 Bedding - Wrinkle  Fade  Stain Resistant - 3 Piece (for Extra Deep Mattresses  Twin  Baby Blue)\"\n",
      "\n",
      "\n",
      "12 SafeRest Twin Size Premium Hypoallergenic Waterproof Mattress Protector \"Premium Cotton Terry. Protects Agains Fluids  Urine  Perspiration and Allergens (10-Year Warranty) Hypoallergenic Cotton Terry Surface With Membrane Back Coating (Waterproof  Noiseless and Breathable)\"\n",
      "\n",
      "\n",
      "13 \"Amazon Basics Microfiber Sheet Set  Twin  Beige\" \"100% Polyester Microfiber. Imported. Twin sheet set includes (1) 66 x 96 inch flat sheet  (1) 38 x 74 x 14 inch fitted sheet  and (1) 20 x 30 inch pillowcase. All-around elastic on 14\"\" fitted sheet allows for snug  secure fit of most mattress sizes up to a 16\"\" mattress depth\"\n",
      "\n",
      "\n",
      "14 Beckham Hotel Collection Bed Pillows for Sleeping  \"Queen Size  Set of 2 - Soft Allergy Friendly  Cooling  Luxury Gel Pillow for Back  Stomach or Side Sleepers\"\n",
      "\n",
      "\n",
      "15 LiBa PEVA 8G Bathroom Small Shower Stall Curtain Liner \"36\"\" W x 72\"\" H Narrow Size  Clear  8G Heavy Duty Waterproof Shower Stall Curtain Liner\"\n",
      "\n",
      "\n",
      "16 \"Utopia Bedding Throw Pillows Insert (Pack of 2  White)\" 12 x 12 Inches Bed and Couch Pillows - Indoor Decorative Pillows\n",
      "\n",
      "\n",
      "17 Twin Sheet Set - 3 Piece College Dorm Room Bed Sheets - Hotel Luxury Bed Sheets - Extra Soft Sheets - Deep Pockets - Easy Fit - Breathable & Cooling Sheets – Bed Sheets - Twin - Twin Mattress Sheets\n",
      "\n",
      "\n",
      "18 Flexzilla HFZG510YW Garden Lead-In Hose \"EXTREMELY FLEXIBLE – Extreme all-weather flexibility makes it easy to maneuver around trees  bushes or other obstacles  EXTRMELY DURABLE – Durable and abrasion-resistant outer cover and crush resistant anodized aircraft aluminum fittings  WON’T KINK UNDER PRESSURE – Flexible hybrid polymer material allows the hose to lay flat with no memory  LIGHTWEIGHT – Lighter than traditional garden hoses making Flexzilla easier to carry  life and maneuver around the yard\"\n",
      "\n",
      "\n",
      "19 \"GreaterGoods Digital Food Kitchen Scale  Multifunction Scale Measures in Grams and Ounces (Ash Grey)\" \"A Premium Choice: Between the design and quality  this kitchen scale is going to last and function at an impeccable level. Your cooking just got ten times easier!  Fresh Features: All of the qualities you need and expect in a kitchen scale: readings down to the gram  an eleven pound capacity  and easy to read display. What more could you want?\"\n",
      "\n",
      "20 Fire TV Stick 4K streaming device with Alexa Voice Remote (includes TV controls) Dolby Vision \"\"\"Cinematic experience - Watch in vibrant 4K Ultra HD with support for Dolby Vision  HDR  and HDR10+. Home theater audio with Dolby Atmos - Feel scenes come to life with support for immersive Dolby Atmos audio on select titles with compatible home audio systems. Endless entertainment - Stream more than 1 million movies and TV episodes from Netflix  Prime Video  Disney+  Peacock  and more  plus listen to millions of songs. Subscription fees may apply. Live and free TV - Watch live TV  news  and sports with subscriptions to SLING TV  YouTube TV  and others. Stream for free with Pluto TV  IMDb TV  YouTube and more. Alexa Voice Remote - Search and launch content with your voice. Get to favorite apps quickly with preset buttons. Control power and volume with one remote. Control your smart home - Ask Alexa to check weather  dim the lights  view live camera feeds  stream music and more. Simple and intuitive - Quickly access your favorite apps  live TV  and things you use most  all from the main menu. Easy to set up  compact enough to stay hidden - Plug in behind your TV  turn on the TV  and connect to the internet to get set up.\"\"\"\n",
      "\n",
      "\n",
      "21 Echo Dot (3rd Gen) - Smart speaker with Alexa - Designed to protect your privacy - Charcoal \"\"\"Meet Echo Dot - Our most popular smart speaker with a fabric design. It is our most compact smart speaker that fits perfectly into small spaces. Improved speaker quality - Better speaker quality than Echo Dot Gen 2 for richer and louder sound. Pair with a second Echo Dot for stereo sound. Voice control your music - Stream songs from Amazon Music  Apple Music  Spotify  Sirius XM  and others. Ready to help - Ask Alexa to play music  answer questions  read the news  check the weather  set alarms  control compatible smart home devices  and more. Voice control your smart home - Turn on lights  adjust thermostats  lock doors  and more with compatible connected devices. Create routines to start and end your day. Connect with others hands-free - Call friends and family who have the Alexa app or an Echo device. Instantly drop in on other rooms in your home or make an announcement to every room with a compatible Echo device. Alexa has skills - With tens of thousands of skills and counting  Alexa is always getting smarter and adding new skills like tracking fitness  playing games  and more. Designed to protect your privacy – Amazon is not in the business of selling your personal information to others. Built with multiple layers of privacy controls including a mic off button.\"\"\"\n",
      "\n",
      "\n",
      "22 TCL 43-inch 4K UHD Smart LED TV - 43S435 2021 Model \"\"\"Dimensions (w x h x d): TV without stand: 38.2 x 22.4 x3 inches  tv with stand: 38.2 inches x 24.5 inches x 7.6 inches Smart functionality delivers all your favorite content with over 500 000 movies and tv episodes  accessible through the simple and intuitive roku tv Pairs 4k ultra HD picture clarity with the contrast  color  and detail of high dynamic range (HDR) for the most lifelike picture Direct lit led produces great picture quality. Panel resolution 3840 x 2160 Inputs: 3 HDMI 2.0 with HDCP 2.2 (one with HDMI ARC)  1 USB (media player)  RF  Composite  Headphone Jack  Optical Audio Out\"\"\"\n",
      "\n",
      "\n",
      "23 Apple AirTag \"\"\"Keep track of and find your items alongside friends and devices in the Find My app Simple one-tap setup instantly connects AirTag with your iPhone or iPad\n",
      "\n",
      "\n",
      "24 Play a sound on the built-in speaker to help find your things  or just ask Siri for help Precision Finding with Ultra Wideband technology leads you right to your nearby AirTag (on select iPhone models) Find items further away with the help of hundreds of millions of Apple devices in the Find My network Put AirTag into Lost Mode to be automatically notified when it’s detected in the Find My network All communication with the Find My network is anonymous and encrypted for privacy  Location data and history are never stored on AirTag Replaceable battery lasts over a year AirTag is IP67 water and dust resistant Make AirTag yours with a range of colorful accessories  sold separately\"\"\"\n",
      "\n",
      "\n",
      "25 Roku Streaming Stick 4K 2021 | Streaming Device 4K/HDR/Dolby Vision with Roku Voice Remote and TV Controls \"\"\"Roku® Streaming Stick® 4K is faster and more powerful than ever. The redesigned long-range Wi-Fi® receiver is super-charged with up to 2x the speed—exactly what you need for smooth streaming in spectacular 4K  Dolby Vision®  and HDR10+ picture. The all-new design plugs right into your TV with a simple setup. It’s perfect for wall-mounted TVs and keeping wires out of sight. Stunningly sharp 4K picture brings out the rich detail in your entertainment with 4x the resolution of HD. Watch in awe as colors come to life with spectacular Dolby Vision® picture. Start streaming channels including Disney+  Prime Video  HBO Max  Apple TV+  Netflix  Sling  and Hulu in a snap with a super-fast startup  and enjoy smooth TV streaming in rooms further from your router with the long-range Wi-Fi® receiver  now up to 2x faster. Power up your TV  adjust the volume  and control your Roku device with one remote. Easily search across thousands of channels with your voice and control your TV  streaming  and sound—all with the included Roku voice remote. Upgrade your streaming with a massive selection of free  live  and premium TV  including Roku® Originals only on The Roku Channel. The customizable home screen puts your favorites front and center  so you can spend your time streaming—not scrolling. Setup is simple with everything you need in the box. This Roku® Streaming Stick® 4K also works with popular voice assistants. Ask your Alexa or Google Assistant-enabled device to launch channels  search for entertainment  control your streaming  and more. You can also control your TV using the Apple Home app or Siri on your Apple devices plus share videos  photos  and music from your Apple device using AirPlay.\"\"\"\n",
      "\n",
      "\n",
      "26 \"\"\"Amazon Smart Plug  Works with Alexa – A Certified for Humans Device\"\"\" \"\"\"Amazon Smart Plug works with Alexa to add voice control to any outlet. Certified for Humans - Struggle-free  tinker-free  stress-free. No patience needed—it's actually simple. Schedule lights  fans  and appliances to turn on and off automatically  or control them remotely when you’re away. Simple to set up and use—plug in  open the Alexa app  and get started in minutes. Compact design keeps your second outlet free. No smart home hub required—set up routines and schedules through the Alexa app. See tips on saving energy and estimate your light’s consumption with the Alexa energy dashboard.\"\"\"\n",
      "\n",
      "\n",
      "27 Fujifilm Instax Mini Instant Film Twin Pack (White) \"Designed for use with Instax Mini line of cameras; Works well in low light Develops instantly: Press the shutter  capture the moment  and watch the photo slide out and the image develop in front of your eyes; Hi speed  ISO 800 with superb grain quality  Instax Mini Film ensure vibrant color and natural skin tones Credit card size 5.4 x 8.6 centimeters (film size): The unique credit card sized film is easy to carry in your purse or wallet and has that classic white frame that you can leave blank or personalize with fun messages Easy to load cartridge film cartridge is designed and labeled for easy loading and filled with film for 10 credit card sized instant prints; Store in cool and dry conditions Instructions: To prevent fogging of unexposed film during X-ray inspection of luggage at airports  carry in hand baggage. Use at 41 - 104 degrees F (5 - 40 degrees C). Store in a cool and dry conditions. Do not freeze\"\n",
      "\n",
      "\n",
      "28 \"\"\"Lenovo Chromebook Flex 3 11\"\" Laptop  11.6-Inch HD (1366 x 768) IPS Display  MediaTek MT8173C Processor  4GB LPDDR3  64 GB eMMC  Chrome OS  82HG0006US  Blizzard White\"\"\" \"\"\"Less Complexity  More Productivity Fast  flexible  and fun  the IdeaPad Flex 3 Chromebook (11) houses your favorite Chromebook features in a slim 2-in-1 laptop. It runs on the lightning-fast Chrome OS so it boots up in seconds  updates automatically  and has built-in virus protection. Featuring a MediaTek processor and up to 10 hours of battery life  the Chromebook Flex 3-11 is your reliable on-the-go tech companion.\"\"\"\n",
      "\n",
      "\n",
      "29 \"\"\"2021 Apple 10.2-inch iPad (Wi-Fi  64GB) - Space Gray\"\"\" \"\"\"Gorgeous 10.2-inch Retina display with True Tone A13 Bionic chip with Neural Engine 8MP Wide back camera  12MP Ultra Wide front camera with Center Stage Up to 256GB storage Stereo speakers Touch ID for secure authentication and Apple Pay 802.11ac Wi-Fi Up to 10 hours of battery life Lightning connector for charging and accessories Works with Apple Pencil (1st generation) and Smart Keyboard\"\"\"\n",
      "\n",
      "\n",
      "30 \"\"\"Introducing Echo Show 15  Full HD 15.6\"\" smart display for family organization with Alexa\"\"\" \"\"\"Alexa can show you even more – With a 15.6” Full HD (1080p) smart display and 5 MP camera  family organization and entertainment will look brilliant. You can choose portrait or landscape orientation. At-a-glance organization – Use Alexa-powered widgets to keep the family on track with shared calendars  personal sticky notes  to-do lists  shopping lists  and assigned reminders. Alexa can help feed the fam – Get daily recipe ideas  cook along hands-free with step-by-step instructions  add ingredients to your shopping cart  or simply order meal kits or takeout. Your smart home at your fingertips – Add your most-used smart devices to the home screen for quick access  and see all compatible devices together on one dashboard. So much entertainment – Catch up on your favorites with Prime Video  Netflix  Hulu  and more. Or stream radio stations  podcasts  and audiobooks with Amazon Music  Spotify  and Audible. Your memories in full-screen - With the Photo Frame feature  you can use your Echo Show 15 to display your albums from Amazon Photos or Facebook. Your day  your way – Family members can create personal profiles and use visual ID and voice ID to see their specific appointments  reminders  recently played music  and more. Designed to protect your privacy – Amazon is not in the business of selling your personal information to others. Built with multiple layers of privacy controls including a mic/camera off button and a built-in camera shutter.\"\"\"\n",
      "\n",
      "\n",
      "31 My Savior Carrie Underwood\n",
      "\n",
      "\n",
      "32 Fearless (Taylor's Version) [2 CD] Taylor Swift\n",
      "\n",
      "\n",
      "33 Beautiful Scars Merry Clayton\n",
      "\n",
      "\n",
      "34 They're Calling Me Home Rhiannon Giddens\n",
      "\n",
      "\n",
      "35 In Another World Cheap Trick\n",
      "\n",
      "\n",
      "36 WE ARE Jon Batiste\n",
      "\n",
      "\n",
      "37 evermore [Green 2 LP]  Taylor Swift Explicit Lyrics Double vinyl\n",
      "\n",
      "\n",
      "38 Legend [Vinyl] Bob Marley LP\n",
      "\n",
      "\n",
      "39 Dangerous: The Double Album [2 CD] Morgan Wallen Explicit Lyrics 2 CD\n",
      "\n",
      "\n",
      "40 Where Have You Gone Alan Jackson\n",
      "\n",
      "41 \"\"\"Amazon Basics 30% Recycled Multipurpose Copy Printer Paper - 8.5 x 11 Inches  3 Ream Case (1500 Sheets)\"\"\" \"\"\"3 reams of letter-size 30% recycled multipurpose copy paper (1 500 sheets total) Works with laser/inkjet printers  copiers  and fax machines High-quality 20-pound weight for economical printing and resistance to paper jams Bright white for better contrast; 92 GE brightness Acid-free for long-lasting strength; made in the USA from imported materials; measures 8.5 by 11 inches\"\"\"\n",
      "\n",
      "\n",
      "42 \"\"\"Original HP 63XL Black High-yield Ink Cartridge | Works with HP DeskJet 1112  2130  3630 Series; HP ENVY 4510  4520 Series; HP OfficeJet 3830  4650  5200 Series | Eligible for Instant Ink | F6U64AN\"\"\" \"\"\"Make sure this fits by entering your model number.\n",
      "\n",
      "\n",
      "43 Original HP Ink is engineered to work with HP printers to provide consistent quality  reliability and value This cartridge works with: HP DeskJet 1112  2130  2132  3630  3631  3632  3633  3634  3636  3637  3639; HP ENVY 4511  4512  4513  4516  4520  4522  4524; HP OfficeJet 3830  3831  3833  3836  4650  4652  4654  4655  5212  5222  5230  5232  5255  5260  5264 Cartridge yield (approx.): 480 pages Up to 2x more prints with Original HP Ink vs. non-Original HP Ink 82% of HP ink cartridges are manufactured with recycled plastic Get ink your way: buy Original HP Ink Cartridges or save up to 50% and never run out with HP Instant Ink  the Smart Ink Subscription What's in the box: 1 new Original HP 63XL Black High-yield Ink Cartridge (F6U64AN) CHOOSE AN INK REPLENISHMENT SERVICE - Let your printer track usage and have ink delivered before you run out. Either reorder HP Genuine ink cartridges only when you need them through Amazon Dash Replenishment  or save up to 50 percent by paying for pages printed through HP Instant Ink\"\"\"\n",
      "\n",
      "\n",
      "44 \"\"\"Sharpie Permanent Marker  Fine Point  Black  Pack of 5\"\"\" \"\"\"Proudly permanent ink marks on paper  plastic  metal  and most other surfaces Intensely brilliant colors create eye popping  vibrant impressions Remarkably resilient ink dries quickly and resists fading and water; AP certified Endlessly versatile fine point is perfect for countless uses in the classroom  office  home  and beyond Colorful options: Includes 5 Black Sharpie permanent markers\"\"\"\n",
      "\n",
      "\n",
      "45 \"\"\"Amazon Basics Narrow Ruled 5 x 8-Inch Writing Pad - Canary (50 Sheet Paper Pads  12 pack)\"\"\" \"\"\"12-pack of 50-page white writing tablets Narrow ruled paper (1/4-inch spacing between lines) for people with smaller handwriting or when you want more on a single page 16-pound paper for everyday use Perforated top ensures easy removal of sheets Measures 5 by 8 inches\"\"\"\n",
      "\n",
      "\n",
      "46 \"\"\"Scotch Heavy Duty Packaging Tape  1.88\"\" x 22.2 yd  Designed for Packing  Shipping and Mailing  Strong Seal on All Box Types  1.5\"\" Core  Clear  6 Rolls with Dispenser (142-6)\"\"\" \"\"\"Guaranteed to stay sealed (If your box does not stay sealed  3M will refund the purchase price of this tape). Proof of purchase required. Provides excellent holding power for heavy-duty packaging and shipping Strong seal on all box types  including harder-to-stick-to 100% recycled boxes Strong  durable solvent-free hot melt adhesive seals and protects Release coating makes unwind easy. Resists slivering  splitting and tearing..Includes 6 rolls with 6 dispensers with fallback tabs to ensure tape doesn't fall back on the roll.Scotch brand's strongest clear-to-the-core packaging tape.Clear backing and instant adhesion.Meets U.S. postal regulations for standard packages.Made in USA with US and globally sourced materials\"\"\"\n",
      "\n",
      "\n",
      "47 \"\"\"Blue Sky 2022 Weekly & Monthly Planner  5\"\" x 8\"\"  Flexible Cover  Wirebound  Enterprise (131791)\"\"\" \"\"\"January 2022 - December 2022 stylish day planner with 12 months of monthly and weekly pages for easy year-round planning; 6 additional monthly pages (July 2021 - December 2021) are included Monthly view pages contain previous and next month reference calendars for long-term planning  and a notes section for important projects; Major holidays listed  elapsed and remaining days noted Weekly view pages offer ample lined writing space for more detailed planning  allowing you to keep track of your appointments  reminders  ideas and to-do lists every day of the week Yearly calendar planner includes a convenient list of holidays  reference calendars  contacts pages and extra notes pages to accommodate your scheduling needs and keep you organized Printed on high quality white paper for clean writing space  with premium quality covers in a professional design and durable  coated tabs that withstand constant use throughout the year\"\"\"\n",
      "\n",
      "\n",
      "48 \"\"\"Scotch Thermal Laminating Pouches  100-Pack  8.9 x 11.4 Inches  Letter Size Sheets (TP3854-100)\"\"\" \"\"\"8.9 inch x 11.4 inch for letter size documents 100 per package Great for signs  schedules  certificates  kids artwork  and more Ideal for marker-proof  tear-proof and spill-proof paper items that you want to last\"\"\"\n",
      "\n",
      "\n",
      "49 \"\"\"Amazon Basics 6-Sheet Cross-Cut Paper and Credit Card Home Office Shredder\"\"\" \"\"\"6 sheet crosscut paper/credit card shredder Auto Start and overheat protection Thermal Protection to prevent overheating manual reverse to clear paper jams shreds credit cards; small paper clips; staples Important Note: Do not spray or keep any aerosol products in or around the shredder and do not shred items like metallic credit cards\"\"\"\n",
      "\n",
      "\n",
      "50 \"\"\"Pendaflex File Folders  Letter Size  8-1/2\"\" x 11\"\"  Classic Manila  1/3-Cut Tabs in Left  Right  Center Positions  100 Per Box (65213)\"\"\" \"\"\"TRIED AND TRUE: Pendaflex Standard Manila File Folders slip seamlessly into many existing filing systems and are easy to label  easy to read and easy to replace 1/3-CUT TABS IN ASSORTED POSITIONS are staggered from left to right for perfect visibility in your vertical or lateral file cabinet LETTER-SIZE FOLDERS fit standard 8-1/2\"\" x 11\"\" documents; get 100 manila folders per box to use alone or with hanging file folders STOCK-UP SHOP & DONE: This never-out necessity comes with 100 letter-size file folders per box and makes re-orders quick and convenient WAVE GOODBYE TO CLUTTER: Several boxes and a good filing plan put you on your way to a clear desk and wide open spaces PROUDLY MADE IN THE USA\"\"\"\n",
      "\n",
      "\n",
      "51 \"\"\"AT-A-GLANCE 2020 Desk Calendar  Desk Pad  21-3/4\"\" x 17\"\"  Standard  Ruled Blocks (SK2400)\"\"\" \"\"\"YEAR-ROUND PLANNING - Desk pad covers 12 months from January 2020-December 2020 with Julian dates. Keep track of important deadlines  special events and more with clear organization. INK BLEED RESISTANCE - Plan your schedule without fear of distracting ink bleeding. Our improved  high-quality paper is designed for superior ink bleed resistance  which keeps plans neat and legible. MONTHLY OVERVIEW - Great for long term planning  each month features ruled daily blocks  space for notes and a full year of reference calendar blocks. Pages measure 21-3/4\"\" x 17\"\". ENHANCED ORGANIZATION - Expand your organizational skills with special features  including a perforated pages  2 black corner protectors and holes for optional wall hanging.\"\"\"\n",
      "\n",
      "\n"
     ]
    }
   ],
   "source": [
    "for i, prod in enumerate(products):\n",
    "    print(i, prod)\n",
    "    print()"
   ]
  },
  {
   "cell_type": "code",
   "execution_count": 77,
   "metadata": {},
   "outputs": [],
   "source": [
    "# Fill in yours here. This should have length 52.\n",
    "y_true = [0, 0, 0, 0, 1, 1, 0, 0, 1, 0, 0, 0, 0, 0, 0, 0, 0, 1, 0, 1, 1, 1, 0, 1, 1, 0, 0, 1, 0, 1, 0, 0, 1, 0, 0, 0, 0, 1, 0, 0, 0, 1, 0, 0, 1, 1, 1, 0, 0, 1, 0, 0]\n",
    "assert len(y_true) == 52"
   ]
  },
  {
   "cell_type": "markdown",
   "metadata": {},
   "source": [
    "# With Google only"
   ]
  },
  {
   "cell_type": "markdown",
   "metadata": {},
   "source": [
    "## distilgpt-2"
   ]
  },
  {
   "cell_type": "code",
   "execution_count": 78,
   "metadata": {},
   "outputs": [],
   "source": [
    "with open('../saved/embeddings/full-data/distilgpt-2/rahul.pickle', 'rb') as f:\n",
    "    data = pickle.load(f)"
   ]
  },
  {
   "cell_type": "code",
   "execution_count": 79,
   "metadata": {},
   "outputs": [
    {
     "name": "stderr",
     "output_type": "stream",
     "text": [
      "Some weights of the model checkpoint at distilgpt2 were not used when initializing GPT2Model: ['lm_head.weight']\n",
      "- This IS expected if you are initializing GPT2Model from the checkpoint of a model trained on another task or with another architecture (e.g. initializing a BertForSequenceClassification model from a BertForPreTraining model).\n",
      "- This IS NOT expected if you are initializing GPT2Model from the checkpoint of a model that you expect to be exactly identical (initializing a BertForSequenceClassification model from a BertForSequenceClassification model).\n"
     ]
    }
   ],
   "source": [
    "product_embeddings = []\n",
    "model = Embedding(model='distilgpt2')\n",
    "\n",
    "for product in products:\n",
    "    product_embeddings.append(model.embed(product))"
   ]
  },
  {
   "cell_type": "code",
   "execution_count": 80,
   "metadata": {},
   "outputs": [
    {
     "data": {
      "text/plain": [
       "(52, 768)"
      ]
     },
     "execution_count": 80,
     "metadata": {},
     "output_type": "execute_result"
    }
   ],
   "source": [
    "product_embeddings = np.array(product_embeddings)\n",
    "product_embeddings.shape"
   ]
  },
  {
   "cell_type": "code",
   "execution_count": 81,
   "metadata": {},
   "outputs": [
    {
     "name": "stderr",
     "output_type": "stream",
     "text": [
      "/opt/conda/lib/python3.7/site-packages/ipykernel_launcher.py:7: VisibleDeprecationWarning: Creating an ndarray from ragged nested sequences (which is a list-or-tuple of lists-or-tuples-or ndarrays with different lengths or shapes) is deprecated. If you meant to do this, you must specify 'dtype=object' when creating the ndarray\n",
      "  import sys\n"
     ]
    },
    {
     "data": {
      "text/plain": [
       "[34, 36, 5, 39, 41, 10, 44, 45, 46, 14, 12, 17, 49, 19, 15, 48, 24, 29]"
      ]
     },
     "execution_count": 81,
     "metadata": {},
     "output_type": "execute_result"
    }
   ],
   "source": [
    "preds = get_predictions(data, product_embeddings, True)\n",
    "preds"
   ]
  },
  {
   "cell_type": "code",
   "execution_count": 92,
   "metadata": {},
   "outputs": [
    {
     "name": "stdout",
     "output_type": "stream",
     "text": [
      "Accuracy: 0.6923076923076923\n",
      "Recall: 0.5555555555555556\n",
      "Precision: 0.5555555555555556\n",
      "F1-score: 0.5555555555555556\n",
      "popt20: 0.34615384615384615\n"
     ]
    }
   ],
   "source": [
    "get_metrics(y_true, preds)"
   ]
  },
  {
   "cell_type": "markdown",
   "metadata": {},
   "source": [
    "## gpt2-medium"
   ]
  },
  {
   "cell_type": "code",
   "execution_count": 60,
   "metadata": {},
   "outputs": [],
   "source": [
    "with open('../saved/embeddings/full-data/distilgpt-2/rahul.pickle', 'rb') as f:\n",
    "    data = pickle.load(f)"
   ]
  },
  {
   "cell_type": "code",
   "execution_count": 62,
   "metadata": {},
   "outputs": [],
   "source": [
    "product_embeddings = []\n",
    "model = Embedding(model='gpt2-medium')\n",
    "\n",
    "for product in products:\n",
    "    product_embeddings.append(model.embed(product))"
   ]
  },
  {
   "cell_type": "code",
   "execution_count": 64,
   "metadata": {},
   "outputs": [
    {
     "data": {
      "text/plain": [
       "(52, 1024)"
      ]
     },
     "execution_count": 64,
     "metadata": {},
     "output_type": "execute_result"
    }
   ],
   "source": [
    "product_embeddings = np.array(product_embeddings)\n",
    "product_embeddings.shape"
   ]
  },
  {
   "cell_type": "code",
   "execution_count": 65,
   "metadata": {},
   "outputs": [
    {
     "name": "stdout",
     "output_type": "stream",
     "text": [
      "Building KNN index\n"
     ]
    },
    {
     "name": "stderr",
     "output_type": "stream",
     "text": [
      "100%|████████████████████████████████████████████████████████████████████████████████████████████| 52/52 [00:00<00:00, 5096.36it/s]\n"
     ]
    },
    {
     "name": "stdout",
     "output_type": "stream",
     "text": [
      "Extracting KNN neighbours\n"
     ]
    },
    {
     "name": "stderr",
     "output_type": "stream",
     "text": [
      "100%|█████████████████████████████████████████████████████████████████████████████████████████████| 52/52 [00:00<00:00, 517.84it/s]\n"
     ]
    },
    {
     "name": "stdout",
     "output_type": "stream",
     "text": [
      "Training neural network\n",
      "Epoch 1/1000\n",
      "26/26 [==============================] - 1s 7ms/step - loss: 2.1924\n",
      "Epoch 2/1000\n",
      "26/26 [==============================] - 0s 7ms/step - loss: 2.1425\n",
      "Epoch 3/1000\n",
      "26/26 [==============================] - 0s 8ms/step - loss: 0.8574\n",
      "Epoch 4/1000\n",
      "26/26 [==============================] - 0s 7ms/step - loss: 1.3854\n",
      "Epoch 5/1000\n",
      "26/26 [==============================] - 0s 6ms/step - loss: 1.1024\n",
      "Epoch 6/1000\n",
      "26/26 [==============================] - 0s 7ms/step - loss: 1.5476\n",
      "Epoch 7/1000\n",
      "26/26 [==============================] - 0s 6ms/step - loss: 1.9592\n",
      "Epoch 8/1000\n",
      "26/26 [==============================] - 0s 7ms/step - loss: 0.5868\n",
      "Epoch 9/1000\n",
      "26/26 [==============================] - 0s 7ms/step - loss: 0.5126\n",
      "Epoch 10/1000\n",
      "26/26 [==============================] - 0s 6ms/step - loss: 1.7066\n",
      "Epoch 11/1000\n",
      "26/26 [==============================] - 0s 7ms/step - loss: 0.9353\n",
      "Epoch 12/1000\n",
      "26/26 [==============================] - 0s 7ms/step - loss: 1.9062\n",
      "Epoch 13/1000\n",
      "26/26 [==============================] - 0s 6ms/step - loss: 1.7958\n",
      "Epoch 14/1000\n",
      "26/26 [==============================] - 0s 6ms/step - loss: 0.9605\n",
      "Epoch 15/1000\n",
      "26/26 [==============================] - 0s 8ms/step - loss: 1.2783\n",
      "Epoch 16/1000\n",
      "26/26 [==============================] - 0s 7ms/step - loss: 0.4556\n",
      "Epoch 17/1000\n",
      "26/26 [==============================] - 0s 7ms/step - loss: 1.1148\n",
      "Epoch 18/1000\n",
      "26/26 [==============================] - 0s 8ms/step - loss: 0.8036\n",
      "Epoch 19/1000\n",
      "26/26 [==============================] - 0s 8ms/step - loss: 0.8998\n",
      "Epoch 20/1000\n",
      "26/26 [==============================] - 0s 8ms/step - loss: 0.6405\n",
      "Epoch 21/1000\n",
      "26/26 [==============================] - 0s 8ms/step - loss: 1.6374\n",
      "Epoch 22/1000\n",
      "26/26 [==============================] - 0s 8ms/step - loss: 0.6701\n",
      "Epoch 23/1000\n",
      "26/26 [==============================] - 0s 7ms/step - loss: 0.4113\n",
      "Epoch 24/1000\n",
      "26/26 [==============================] - 0s 7ms/step - loss: 0.6157\n",
      "Epoch 25/1000\n",
      "26/26 [==============================] - 0s 8ms/step - loss: 0.8996\n",
      "Epoch 26/1000\n",
      "26/26 [==============================] - 0s 8ms/step - loss: 0.8176\n",
      "Epoch 27/1000\n",
      "26/26 [==============================] - 0s 6ms/step - loss: 0.6943\n",
      "Epoch 28/1000\n",
      "26/26 [==============================] - 0s 7ms/step - loss: 0.6583\n",
      "Epoch 29/1000\n",
      "26/26 [==============================] - 0s 7ms/step - loss: 0.2484\n",
      "Epoch 30/1000\n",
      "26/26 [==============================] - 0s 7ms/step - loss: 0.7413\n",
      "Epoch 31/1000\n",
      "26/26 [==============================] - 0s 7ms/step - loss: 0.7230\n",
      "Epoch 32/1000\n",
      "26/26 [==============================] - 0s 7ms/step - loss: 1.0565\n",
      "Epoch 33/1000\n",
      "26/26 [==============================] - 0s 6ms/step - loss: 0.5845\n",
      "Epoch 34/1000\n",
      "26/26 [==============================] - 0s 8ms/step - loss: 0.7403\n",
      "Epoch 35/1000\n",
      "26/26 [==============================] - 0s 8ms/step - loss: 0.8430\n",
      "Epoch 36/1000\n",
      "26/26 [==============================] - 0s 6ms/step - loss: 0.9623\n",
      "Epoch 37/1000\n",
      "26/26 [==============================] - 0s 7ms/step - loss: 0.6251\n",
      "Epoch 38/1000\n",
      "26/26 [==============================] - 0s 8ms/step - loss: 0.4558\n",
      "Epoch 39/1000\n",
      "26/26 [==============================] - 0s 6ms/step - loss: 1.0163\n",
      "Epoch 40/1000\n",
      "26/26 [==============================] - 0s 6ms/step - loss: 0.4568\n",
      "Epoch 41/1000\n",
      "26/26 [==============================] - 0s 8ms/step - loss: 1.0591\n",
      "Epoch 42/1000\n",
      "26/26 [==============================] - 0s 8ms/step - loss: 0.7738\n",
      "Epoch 43/1000\n",
      "26/26 [==============================] - 0s 7ms/step - loss: 0.1882\n",
      "Epoch 44/1000\n",
      "26/26 [==============================] - 0s 6ms/step - loss: 1.1140\n",
      "Epoch 45/1000\n",
      "26/26 [==============================] - 0s 7ms/step - loss: 0.7291\n",
      "Epoch 46/1000\n",
      "26/26 [==============================] - 0s 7ms/step - loss: 0.7023\n",
      "Epoch 47/1000\n",
      "26/26 [==============================] - 0s 6ms/step - loss: 1.5457\n",
      "Epoch 48/1000\n",
      "26/26 [==============================] - 0s 6ms/step - loss: 0.7336\n",
      "Epoch 49/1000\n",
      "26/26 [==============================] - 0s 6ms/step - loss: 0.9264\n",
      "Epoch 50/1000\n",
      "26/26 [==============================] - 0s 7ms/step - loss: 0.6357\n",
      "Epoch 51/1000\n",
      "26/26 [==============================] - 0s 6ms/step - loss: 0.2727\n",
      "Epoch 52/1000\n",
      "26/26 [==============================] - 0s 8ms/step - loss: 0.5921\n",
      "Epoch 53/1000\n",
      "26/26 [==============================] - 0s 7ms/step - loss: 0.5166\n",
      "Epoch 54/1000\n",
      "26/26 [==============================] - 0s 8ms/step - loss: 0.6345\n",
      "Epoch 55/1000\n",
      "26/26 [==============================] - 0s 7ms/step - loss: 0.9850\n",
      "Epoch 56/1000\n",
      "26/26 [==============================] - 0s 8ms/step - loss: 0.9106\n",
      "Epoch 57/1000\n",
      "26/26 [==============================] - 0s 8ms/step - loss: 0.6277\n",
      "Epoch 58/1000\n",
      "26/26 [==============================] - 0s 8ms/step - loss: 0.8833\n",
      "Epoch 59/1000\n",
      "26/26 [==============================] - 0s 7ms/step - loss: 0.6385\n",
      "Epoch 60/1000\n",
      "26/26 [==============================] - 0s 9ms/step - loss: 0.7415\n",
      "Epoch 61/1000\n",
      "26/26 [==============================] - 0s 7ms/step - loss: 0.5056\n",
      "Epoch 62/1000\n",
      "26/26 [==============================] - 0s 6ms/step - loss: 0.7545\n",
      "Epoch 63/1000\n",
      "26/26 [==============================] - 0s 6ms/step - loss: 0.8992\n",
      "26/26 [==============================] - 0s 5ms/step\n"
     ]
    },
    {
     "name": "stderr",
     "output_type": "stream",
     "text": [
      "/opt/conda/lib/python3.7/site-packages/ipykernel_launcher.py:7: VisibleDeprecationWarning: Creating an ndarray from ragged nested sequences (which is a list-or-tuple of lists-or-tuples-or ndarrays with different lengths or shapes) is deprecated. If you meant to do this, you must specify 'dtype=object' when creating the ndarray\n",
      "  import sys\n"
     ]
    },
    {
     "data": {
      "text/plain": [
       "[0, 3, 6, 8, 10, 19, 20, 21, 22, 25, 26]"
      ]
     },
     "execution_count": 65,
     "metadata": {},
     "output_type": "execute_result"
    }
   ],
   "source": [
    "preds = get_predictions(data, product_embeddings, True)\n",
    "preds"
   ]
  },
  {
   "cell_type": "code",
   "execution_count": null,
   "metadata": {},
   "outputs": [],
   "source": []
  }
 ],
 "metadata": {
  "kernelspec": {
   "display_name": "Python 3",
   "language": "python",
   "name": "python3"
  },
  "language_info": {
   "codemirror_mode": {
    "name": "ipython",
    "version": 3
   },
   "file_extension": ".py",
   "mimetype": "text/x-python",
   "name": "python",
   "nbconvert_exporter": "python",
   "pygments_lexer": "ipython3",
   "version": "3.7.10"
  }
 },
 "nbformat": 4,
 "nbformat_minor": 4
}
